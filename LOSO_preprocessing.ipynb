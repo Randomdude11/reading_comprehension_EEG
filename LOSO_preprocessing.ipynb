{
 "cells": [
  {
   "cell_type": "code",
   "execution_count": 13,
   "metadata": {},
   "outputs": [],
   "source": [
    "import numpy as np\n",
    "import pandas as pd\n",
    "import random\n",
    "import matplotlib.pyplot as plt\n",
    "import mne\n",
    "import seaborn as sns\n",
    "import nolds\n",
    "from scipy import stats\n",
    "from scipy.signal import welch\n",
    "from sklearn.model_selection import StratifiedKFold\n",
    "from sklearn.feature_selection import SelectFromModel\n",
    "from sklearn.utils.class_weight import compute_sample_weight\n",
    "from sklearn.svm import SVC\n",
    "from sklearn.impute import KNNImputer\n",
    "from sklearn.metrics import f1_score, balanced_accuracy_score, confusion_matrix, accuracy_score\n",
    "from sklearn.preprocessing import QuantileTransformer, StandardScaler\n",
    "from tqdm import tqdm"
   ]
  },
  {
   "cell_type": "code",
   "execution_count": 148,
   "metadata": {},
   "outputs": [],
   "source": [
    "SAMPLING_RATE = 256\n",
    "SEED = 42\n",
    "labels_folder = \"/Users/leluwy/Desktop/ETH/AICenterProjects/our_dataset/labels\"\n",
    "data_folder = \"/Users/leluwy/Desktop/ETH/AICenterProjects/our_dataset\""
   ]
  },
  {
   "cell_type": "code",
   "execution_count": 149,
   "metadata": {},
   "outputs": [],
   "source": [
    "SEED = 42\n",
    "subjects = ['lea','bjoern','finn','sarah', 'aurora', 'derek', 'ronan', 'dimi'] # add all subjects here, the first two will be chosen for test"
   ]
  },
  {
   "cell_type": "code",
   "execution_count": 150,
   "metadata": {},
   "outputs": [
    {
     "name": "stdout",
     "output_type": "stream",
     "text": [
      "lea\n",
      "bjoern\n",
      "finn\n",
      "sarah\n",
      "aurora\n",
      "derek\n",
      "ronan\n",
      "dimi\n"
     ]
    }
   ],
   "source": [
    "subj_data = {}\n",
    "for subj in subjects:\n",
    "    print(subj)\n",
    "    df = pd.read_csv(labels_folder+\"/events_\" + subj + \".txt\", delim_whitespace=True)\n",
    "    df = df[(df.number != \"condition\")]\n",
    "    subj_data[subj] = {}\n",
    "    subj_data[subj][\"labels\"] = df[\"number\"].to_numpy().astype(float)\n",
    "    subj_data[subj][\"timestamps\"] = df[\"type\"].to_numpy().astype(float)\n",
    "    if subj == 'aurora': # aurora is another format\n",
    "        df = pd.read_csv(data_folder+\"/\" + subj + \"_pre_processed_data.txt\", delim_whitespace=True)\n",
    "    else:\n",
    "        df = pd.read_csv(data_folder+\"/\" + subj + \"_pre_processed_data.txt\", delim_whitespace=False)\n",
    "    subj_data[subj][\"data\"] = df"
   ]
  },
  {
   "cell_type": "code",
   "execution_count": 151,
   "metadata": {},
   "outputs": [],
   "source": [
    "for x in subjects:\n",
    "    if subj_data[x]['labels'][0] != 100:\n",
    "        raise Exception(\"Something wrong with labels for \" + x)"
   ]
  },
  {
   "cell_type": "code",
   "execution_count": 152,
   "metadata": {},
   "outputs": [],
   "source": [
    "def split_data(data, labels, timestamps):\n",
    "    def to_true_label(label):\n",
    "        if label == 100:\n",
    "            raise Exception(\"Must skip labels with value 100!\")\n",
    "        if label == 195:\n",
    "            return 1\n",
    "        if label == 196:\n",
    "            return 2\n",
    "        return 0\n",
    "    \n",
    "    x = []\n",
    "    y = []\n",
    "    start = timestamps[0]\n",
    "    for i, label in enumerate(labels):\n",
    "        if i == 0: continue\n",
    "        end = timestamps[i]\n",
    "        if label != 100:\n",
    "            x.append(data[int(start):int(end)])\n",
    "            y.append(to_true_label(label))\n",
    "        start = timestamps[i]\n",
    "    return (x,y)"
   ]
  },
  {
   "cell_type": "code",
   "execution_count": 153,
   "metadata": {},
   "outputs": [],
   "source": [
    "processed_subjects = {}\n",
    "for s in subjects:\n",
    "    processed_subjects[s] = split_data(subj_data[s]['data'], subj_data[s]['labels'], subj_data[s]['timestamps'])"
   ]
  },
  {
   "cell_type": "code",
   "execution_count": 197,
   "metadata": {},
   "outputs": [],
   "source": [
    "subjects_numpy = []\n",
    "labels_numpy = []\n",
    "max_len = int(SAMPLING_RATE*5)\n",
    "for s in subjects:\n",
    "    for i, parapgraph in enumerate(processed_subjects['lea'][0]):\n",
    "        subjects_numpy.append(parapgraph.drop(columns=['Time']).to_numpy()[-max_len:].transpose())\n",
    "        subjects_numpy.append(parapgraph.drop(columns=['Time']).to_numpy()[-2*max_len:-max_len].transpose())\n",
    "        subjects_numpy.append(parapgraph.drop(columns=['Time']).to_numpy()[-3*max_len:-2*max_len].transpose())\n",
    "        labels_numpy.append(np.array(processed_subjects['lea'][1][i]))\n",
    "        labels_numpy.append(np.array(processed_subjects['lea'][1][i]))\n",
    "        labels_numpy.append(np.array(processed_subjects['lea'][1][i]))\n",
    "subjects_numpy = np.stack(subjects_numpy)\n",
    "labels_numpy = np.stack(labels_numpy)"
   ]
  },
  {
   "cell_type": "code",
   "execution_count": 209,
   "metadata": {},
   "outputs": [
    {
     "name": "stdout",
     "output_type": "stream",
     "text": [
      "(696, 64, 1280)\n"
     ]
    }
   ],
   "source": [
    "print(subjects_numpy.shape)"
   ]
  },
  {
   "cell_type": "code",
   "execution_count": 212,
   "metadata": {},
   "outputs": [],
   "source": [
    "# scaling\n",
    "n_samples = 696\n",
    "subjects_numpy_2d = subjects_numpy.reshape((n_samples, -1))\n",
    "scaler = StandardScaler()\n",
    "scaler.fit_transform(subjects_numpy_2d)\n",
    "subjects_numpy = subjects_numpy_2d.reshape(subjects_numpy.shape)"
   ]
  },
  {
   "cell_type": "code",
   "execution_count": 213,
   "metadata": {},
   "outputs": [],
   "source": [
    "# dataset\n",
    "X_test = subjects_numpy[:174]\n",
    "y_test = labels_numpy[:174]\n",
    "X_train = subjects_numpy[174:]\n",
    "y_train = labels_numpy[:174]"
   ]
  },
  {
   "cell_type": "code",
   "execution_count": 215,
   "metadata": {},
   "outputs": [],
   "source": [
    "np.save(\"X\", subjects_numpy)\n",
    "np.save(\"y\", labels_numpy)"
   ]
  },
  {
   "cell_type": "code",
   "execution_count": null,
   "metadata": {},
   "outputs": [],
   "source": []
  }
 ],
 "metadata": {
  "kernelspec": {
   "display_name": "Python 3 (ipykernel)",
   "language": "python",
   "name": "python3"
  },
  "language_info": {
   "codemirror_mode": {
    "name": "ipython",
    "version": 3
   },
   "file_extension": ".py",
   "mimetype": "text/x-python",
   "name": "python",
   "nbconvert_exporter": "python",
   "pygments_lexer": "ipython3",
   "version": "3.8.2"
  }
 },
 "nbformat": 4,
 "nbformat_minor": 4
}
